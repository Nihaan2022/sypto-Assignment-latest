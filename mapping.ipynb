{
 "cells": [
  {
   "cell_type": "code",
   "execution_count": 1,
   "metadata": {},
   "outputs": [
    {
     "name": "stderr",
     "output_type": "stream",
     "text": [
      "C:\\Users\\umade\\AppData\\Local\\Temp\\ipykernel_1972\\3442803196.py:8: DtypeWarning: Columns (0) have mixed types. Specify dtype option on import or set low_memory=False.\n",
      "  angel_df = pd.read_csv(r'C:\\Users\\umade\\Downloads\\Brokers_data\\angel_script_master.csv').head(1000)\n"
     ]
    }
   ],
   "source": [
    "import pandas as pd\n",
    "\n",
    "# Load each CSV file into a DataFrame\n",
    "zerodha_df = pd.read_csv(r'C:\\Users\\umade\\Downloads\\Brokers_data\\zerodha_script_master.csv').head(1000)\n",
    "fyers_df = pd.read_csv(r'C:\\Users\\umade\\Downloads\\Brokers_data\\fyers_script_master.csv').head(1000)\n",
    "alice_df = pd.read_csv(r'C:\\Users\\umade\\Downloads\\Brokers_data\\Alice_script_master.csv').head(1000)\n",
    "samco_df = pd.read_csv(r'C:\\Users\\umade\\Downloads\\Brokers_data\\samco_script_master.csv').head(1000)\n",
    "angel_df = pd.read_csv(r'C:\\Users\\umade\\Downloads\\Brokers_data\\angel_script_master.csv').head(1000)"
   ]
  },
  {
   "cell_type": "code",
   "execution_count": 2,
   "metadata": {},
   "outputs": [
    {
     "data": {
      "text/html": [
       "<div>\n",
       "<style scoped>\n",
       "    .dataframe tbody tr th:only-of-type {\n",
       "        vertical-align: middle;\n",
       "    }\n",
       "\n",
       "    .dataframe tbody tr th {\n",
       "        vertical-align: top;\n",
       "    }\n",
       "\n",
       "    .dataframe thead th {\n",
       "        text-align: right;\n",
       "    }\n",
       "</style>\n",
       "<table border=\"1\" class=\"dataframe\">\n",
       "  <thead>\n",
       "    <tr style=\"text-align: right;\">\n",
       "      <th></th>\n",
       "      <th>token</th>\n",
       "      <th>Symbol</th>\n",
       "      <th>Instrument Name</th>\n",
       "      <th>Expiry Date</th>\n",
       "      <th>strike</th>\n",
       "      <th>lotsize</th>\n",
       "      <th>Instrument Type</th>\n",
       "      <th>exch_seg</th>\n",
       "      <th>tick_size</th>\n",
       "    </tr>\n",
       "  </thead>\n",
       "  <tbody>\n",
       "    <tr>\n",
       "      <th>0</th>\n",
       "      <td>6293</td>\n",
       "      <td>GULPOLY-BL</td>\n",
       "      <td>GULPOLY</td>\n",
       "      <td>NaN</td>\n",
       "      <td>-1</td>\n",
       "      <td>1</td>\n",
       "      <td>NaN</td>\n",
       "      <td>NSE</td>\n",
       "      <td>1</td>\n",
       "    </tr>\n",
       "    <tr>\n",
       "      <th>1</th>\n",
       "      <td>24051</td>\n",
       "      <td>739UK30-SG</td>\n",
       "      <td>739UK30</td>\n",
       "      <td>NaN</td>\n",
       "      <td>-1</td>\n",
       "      <td>100</td>\n",
       "      <td>NaN</td>\n",
       "      <td>NSE</td>\n",
       "      <td>1</td>\n",
       "    </tr>\n",
       "    <tr>\n",
       "      <th>2</th>\n",
       "      <td>3475</td>\n",
       "      <td>THERMAX-EQ</td>\n",
       "      <td>THERMAX</td>\n",
       "      <td>NaN</td>\n",
       "      <td>-1</td>\n",
       "      <td>1</td>\n",
       "      <td>NaN</td>\n",
       "      <td>NSE</td>\n",
       "      <td>5</td>\n",
       "    </tr>\n",
       "    <tr>\n",
       "      <th>3</th>\n",
       "      <td>3523</td>\n",
       "      <td>69MZ33-SG</td>\n",
       "      <td>69MZ33</td>\n",
       "      <td>NaN</td>\n",
       "      <td>-1</td>\n",
       "      <td>100</td>\n",
       "      <td>NaN</td>\n",
       "      <td>NSE</td>\n",
       "      <td>1</td>\n",
       "    </tr>\n",
       "    <tr>\n",
       "      <th>4</th>\n",
       "      <td>17996</td>\n",
       "      <td>PGIMCSR2G-MF</td>\n",
       "      <td>PGIMCSR2G</td>\n",
       "      <td>NaN</td>\n",
       "      <td>-1</td>\n",
       "      <td>1</td>\n",
       "      <td>NaN</td>\n",
       "      <td>NSE</td>\n",
       "      <td>1</td>\n",
       "    </tr>\n",
       "    <tr>\n",
       "      <th>...</th>\n",
       "      <td>...</td>\n",
       "      <td>...</td>\n",
       "      <td>...</td>\n",
       "      <td>...</td>\n",
       "      <td>...</td>\n",
       "      <td>...</td>\n",
       "      <td>...</td>\n",
       "      <td>...</td>\n",
       "      <td>...</td>\n",
       "    </tr>\n",
       "    <tr>\n",
       "      <th>995</th>\n",
       "      <td>13976</td>\n",
       "      <td>TANLA-EQ</td>\n",
       "      <td>TANLA</td>\n",
       "      <td>NaN</td>\n",
       "      <td>-1</td>\n",
       "      <td>1</td>\n",
       "      <td>NaN</td>\n",
       "      <td>NSE</td>\n",
       "      <td>5</td>\n",
       "    </tr>\n",
       "    <tr>\n",
       "      <th>996</th>\n",
       "      <td>773</td>\n",
       "      <td>647MH28-SG</td>\n",
       "      <td>647MH28</td>\n",
       "      <td>NaN</td>\n",
       "      <td>-1</td>\n",
       "      <td>100</td>\n",
       "      <td>NaN</td>\n",
       "      <td>NSE</td>\n",
       "      <td>1</td>\n",
       "    </tr>\n",
       "    <tr>\n",
       "      <th>997</th>\n",
       "      <td>4067</td>\n",
       "      <td>MARICO-EQ</td>\n",
       "      <td>MARICO</td>\n",
       "      <td>NaN</td>\n",
       "      <td>-1</td>\n",
       "      <td>1</td>\n",
       "      <td>NaN</td>\n",
       "      <td>NSE</td>\n",
       "      <td>5</td>\n",
       "    </tr>\n",
       "    <tr>\n",
       "      <th>998</th>\n",
       "      <td>2112</td>\n",
       "      <td>MARALOVER-EQ</td>\n",
       "      <td>MARALOVER</td>\n",
       "      <td>NaN</td>\n",
       "      <td>-1</td>\n",
       "      <td>1</td>\n",
       "      <td>NaN</td>\n",
       "      <td>NSE</td>\n",
       "      <td>1</td>\n",
       "    </tr>\n",
       "    <tr>\n",
       "      <th>999</th>\n",
       "      <td>29426</td>\n",
       "      <td>MOHITIND-BL</td>\n",
       "      <td>MOHITIND</td>\n",
       "      <td>NaN</td>\n",
       "      <td>-1</td>\n",
       "      <td>1</td>\n",
       "      <td>NaN</td>\n",
       "      <td>NSE</td>\n",
       "      <td>1</td>\n",
       "    </tr>\n",
       "  </tbody>\n",
       "</table>\n",
       "<p>1000 rows × 9 columns</p>\n",
       "</div>"
      ],
      "text/plain": [
       "     token        Symbol Instrument Name Expiry Date  strike  lotsize  \\\n",
       "0     6293    GULPOLY-BL         GULPOLY         NaN      -1        1   \n",
       "1    24051    739UK30-SG         739UK30         NaN      -1      100   \n",
       "2     3475    THERMAX-EQ         THERMAX         NaN      -1        1   \n",
       "3     3523     69MZ33-SG          69MZ33         NaN      -1      100   \n",
       "4    17996  PGIMCSR2G-MF       PGIMCSR2G         NaN      -1        1   \n",
       "..     ...           ...             ...         ...     ...      ...   \n",
       "995  13976      TANLA-EQ           TANLA         NaN      -1        1   \n",
       "996    773    647MH28-SG         647MH28         NaN      -1      100   \n",
       "997   4067     MARICO-EQ          MARICO         NaN      -1        1   \n",
       "998   2112  MARALOVER-EQ       MARALOVER         NaN      -1        1   \n",
       "999  29426   MOHITIND-BL        MOHITIND         NaN      -1        1   \n",
       "\n",
       "    Instrument Type exch_seg  tick_size  \n",
       "0               NaN      NSE          1  \n",
       "1               NaN      NSE          1  \n",
       "2               NaN      NSE          5  \n",
       "3               NaN      NSE          1  \n",
       "4               NaN      NSE          1  \n",
       "..              ...      ...        ...  \n",
       "995             NaN      NSE          5  \n",
       "996             NaN      NSE          1  \n",
       "997             NaN      NSE          5  \n",
       "998             NaN      NSE          1  \n",
       "999             NaN      NSE          1  \n",
       "\n",
       "[1000 rows x 9 columns]"
      ]
     },
     "execution_count": 2,
     "metadata": {},
     "output_type": "execute_result"
    }
   ],
   "source": [
    "angel_df"
   ]
  },
  {
   "cell_type": "code",
   "execution_count": 3,
   "metadata": {},
   "outputs": [
    {
     "data": {
      "text/plain": [
       "Index(['token', 'Symbol', 'Instrument Name', 'Expiry Date', 'strike',\n",
       "       'lotsize', 'Instrument Type', 'exch_seg', 'tick_size'],\n",
       "      dtype='object')"
      ]
     },
     "execution_count": 3,
     "metadata": {},
     "output_type": "execute_result"
    }
   ],
   "source": [
    "angel_df.keys()"
   ]
  },
  {
   "cell_type": "code",
   "execution_count": 4,
   "metadata": {},
   "outputs": [
    {
     "data": {
      "text/plain": [
       "Index(['Exch', 'Exchange Segment', 'Symbol', 'Token', 'Instrument Type',\n",
       "       'Option Type', 'Strike Price', 'Instrument Name', 'Formatted Ins Name',\n",
       "       'Trading Symbol', 'Expiry Date', 'Lot Size', 'Tick Size'],\n",
       "      dtype='object')"
      ]
     },
     "execution_count": 4,
     "metadata": {},
     "output_type": "execute_result"
    }
   ],
   "source": [
    "fyers_df.keys()"
   ]
  },
  {
   "cell_type": "code",
   "execution_count": 5,
   "metadata": {},
   "outputs": [],
   "source": [
    "# Standardize column names for each DataFrame\n",
    "angel_df.rename(columns={\n",
    "    'token': 'Token', 'Symbol': 'Symbol', 'Instrument Name': 'Instrument_Name',\n",
    "    'Expiry Date': 'Expiry_Date', 'strike': 'Strike_Price', 'lotsize': 'Lot_Size',\n",
    "    'Instrument Type': 'Instrument_Type', 'exch_seg': 'Exchange_Segment',\n",
    "    'tick_size': 'Tick_Size'\n",
    "}, inplace=True)\n",
    "\n",
    "fyers_df.rename(columns={\n",
    "    'Token': 'Token', 'Symbol': 'Symbol','Exchange Segment':'Exchange_Segment', 'Instrument Type': 'Instrument_Type',\n",
    "    'Strike Price': 'Strike_Price', 'Instrument Name': 'Instrument_Name',\n",
    "    'Formatted Ins Name': 'Formatted_Name', 'Trading Symbol': 'Trading_Symbol',\n",
    "    'Expiry Date': 'Expiry_Date', 'Lot Size': 'Lot_Size', 'Tick Size': 'Tick_Size'\n",
    "}, inplace=True)\n",
    "\n",
    "alice_df.rename(columns={\n",
    "    'Token': 'Token','Exchange Segment':'Exchange_Segment', 'Symbol': 'Symbol', 'Instrument Type': 'Instrument_Type',\n",
    "    'Strike Price': 'Strike_Price', 'Instrument Name': 'Instrument_Name',\n",
    "    'Formatted Ins Name': 'Formatted_Name', 'Trading Symbol': 'Trading_Symbol',\n",
    "    'Expiry Date': 'Expiry_Date', 'Lot Size': 'Lot_Size', 'Tick Size': 'Tick_Size'\n",
    "}, inplace=True)\n",
    "\n",
    "samco_df.rename(columns={\n",
    "    'symbolCode': 'Token', 'tradingSymbol': 'Symbol', 'name': 'Instrument_Name',\n",
    "    'lotSize': 'Lot_Size', 'strikePrice': 'Strike_Price', 'expiryDate': 'Expiry_Date',\n",
    "    'tickSize': 'Tick_Size', 'exchangeSegment': 'Exchange_Segment'\n",
    "}, inplace=True)\n",
    "\n",
    "zerodha_df.rename(columns={\n",
    "    'instrument_token': 'Token', 'Symbol': 'Symbol', 'Instrument Name': 'Instrument_Name',\n",
    "    'Expiry Date': 'Expiry_Date', 'strike': 'Strike_Price', 'tick_size': 'Tick_Size',\n",
    "    'lot_size': 'Lot_Size', 'Instrument Type': 'Instrument_Type', 'segment': 'Exchange_Segment'\n",
    "}, inplace=True)"
   ]
  },
  {
   "cell_type": "code",
   "execution_count": 6,
   "metadata": {},
   "outputs": [
    {
     "name": "stdout",
     "output_type": "stream",
     "text": [
      "Unified CSV file created: Unified_Script_Mapping.csv\n"
     ]
    }
   ],
   "source": [
    "\n",
    "\n",
    "\n",
    "\n",
    "# Merge data on common fields (Symbol and Exchange Segment)\n",
    "# Using outer join to keep all records and identify missing values\n",
    "merged_df = pd.merge(angel_df, fyers_df, on=['Symbol', 'Exchange_Segment'], suffixes=('_Angel', '_Fyers'), how='outer')\n",
    "merged_df = pd.merge(merged_df, alice_df, on=['Symbol', 'Exchange_Segment'], suffixes=('', '_Alice'), how='outer')\n",
    "merged_df = pd.merge(merged_df, samco_df, left_on=['Symbol'], right_on=['Symbol'], suffixes=('', '_Samco'), how='outer')\n",
    "merged_df = pd.merge(merged_df, zerodha_df, left_on=['Symbol'], right_on=['Symbol'], suffixes=('', '_Zerodha'), how='outer')\n",
    "\n",
    "# Drop any duplicate columns created from merging (optional)\n",
    "# Drop columns like 'Expiry_Date_Alice', 'Strike_Price_Alice' if they are exact duplicates\n",
    "for column in merged_df.columns:\n",
    "    if \"_Alice\" in column or \"_Samco\" in column or \"_Zerodha\" in column or \"_Fyers\" in column or \"_Angel\" in column:\n",
    "        # Drop the duplicate column if it matches another column without the suffix\n",
    "        base_column = column.split('_')[0]\n",
    "        if base_column in merged_df.columns and merged_df[column].equals(merged_df[base_column]):\n",
    "            merged_df.drop(columns=[column], inplace=True)\n",
    "\n",
    "# Fill missing values where possible, or leave as NaN for manual checking if necessary\n",
    "# Here, we can fill in some default values or consolidate columns if required\n",
    "merged_df['Lot_Size'] = merged_df['Lot_Size'].fillna(1)  # Example default fill\n",
    "merged_df['Tick_Size'] = merged_df['Tick_Size'].fillna(0.01)  # Example default fill\n",
    "\n",
    "# Save the merged DataFrame to a new CSV file\n",
    "merged_df.to_csv(\"Unified_Script_Mapping.csv\", index=False)\n",
    "\n",
    "print(\"Unified CSV file created: Unified_Script_Mapping.csv\")\n"
   ]
  },
  {
   "cell_type": "code",
   "execution_count": 7,
   "metadata": {},
   "outputs": [
    {
     "data": {
      "text/plain": [
       "Index(['Exch', 'Exchange_Segment', 'Symbol', 'Token', 'Instrument_Type',\n",
       "       'Option Type', 'Strike_Price', 'Instrument_Name', 'Formatted_Name',\n",
       "       'Trading_Symbol', 'Expiry_Date', 'Lot_Size', 'Tick_Size'],\n",
       "      dtype='object')"
      ]
     },
     "execution_count": 7,
     "metadata": {},
     "output_type": "execute_result"
    }
   ],
   "source": [
    "alice_df.keys()"
   ]
  },
  {
   "cell_type": "code",
   "execution_count": null,
   "metadata": {},
   "outputs": [],
   "source": []
  }
 ],
 "metadata": {
  "kernelspec": {
   "display_name": "Python 3 (ipykernel)",
   "language": "python",
   "name": "python3"
  },
  "language_info": {
   "codemirror_mode": {
    "name": "ipython",
    "version": 3
   },
   "file_extension": ".py",
   "mimetype": "text/x-python",
   "name": "python",
   "nbconvert_exporter": "python",
   "pygments_lexer": "ipython3",
   "version": "3.9.13"
  }
 },
 "nbformat": 4,
 "nbformat_minor": 2
}
